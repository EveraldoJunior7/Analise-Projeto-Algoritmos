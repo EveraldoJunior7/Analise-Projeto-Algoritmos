{
 "cells": [
  {
   "cell_type": "code",
   "execution_count": 2,
   "id": "3f18f021",
   "metadata": {},
   "outputs": [],
   "source": [
    "class Grafo:\n",
    "    def __init__(self, grafo):\n",
    "        self.grafo = grafo\n",
    "        self.ROW = len(grafo)\n",
    "\n",
    "    def BFS(self, s, t, parent):\n",
    "        visitado = [False] * (self.ROW)\n",
    "        fila = []\n",
    "        fila.append(s)\n",
    "        visitado[s] = True\n",
    "\n",
    "        while fila:\n",
    "            u = fila.pop(0)\n",
    "\n",
    "            for ind, val in enumerate(self.grafo[u]):\n",
    "                if not visitado[ind] and val > 0:\n",
    "                    fila.append(ind)\n",
    "                    visitado[ind] = True\n",
    "                    parent[ind] = u\n",
    "                    if ind == t:\n",
    "                        return True\n",
    "        return False\n",
    "\n",
    "    def FordFulkerson(self, origem, destino):\n",
    "        parent = [-1] * (self.ROW)\n",
    "        fluxo_maximo = 0 \n",
    "\n",
    "        while self.BFS(origem, destino, parent):\n",
    "            fluxo_caminho = float(\"Inf\")\n",
    "            s = destino\n",
    "            \n",
    "            while s != origem:\n",
    "                fluxo_caminho = min(fluxo_caminho, self.grafo[parent[s]][s])\n",
    "                s = parent[s]\n",
    "\n",
    "            fluxo_maximo += fluxo_caminho\n",
    "            v = destino\n",
    "            \n",
    "            while v != origem:\n",
    "                u = parent[v]\n",
    "                self.grafo[u][v] -= fluxo_caminho\n",
    "                self.grafo[v][u] += fluxo_caminho\n",
    "                v = parent[v]\n",
    "\n",
    "        return fluxo_maximo"
   ]
  },
  {
   "cell_type": "code",
   "execution_count": 3,
   "id": "cb4631ed",
   "metadata": {},
   "outputs": [
    {
     "name": "stdout",
     "output_type": "stream",
     "text": [
      "O fluxo máximo possível é 14 \n"
     ]
    }
   ],
   "source": [
    "grafo = [\n",
    "    [0, 6, 12, 0, 0, 0],\n",
    "    [0, 0, 0, 8, 0, 0],\n",
    "    [0, 0, 0, 3, 5, 0],\n",
    "    [0, 0, 0, 0, 0, 14],\n",
    "    [0, 0, 0, 0, 0, 7],\n",
    "    [0, 0, 0, 0, 0, 0]\n",
    "]\n",
    "\n",
    "g = Grafo(grafo)\n",
    "\n",
    "origem = 0\n",
    "destino = 5\n",
    "\n",
    "print(\"O fluxo máximo possível é %d \" % g.FordFulkerson(origem, destino))"
   ]
  }
 ],
 "metadata": {
  "kernelspec": {
   "display_name": "Python 3 (ipykernel)",
   "language": "python",
   "name": "python3"
  },
  "language_info": {
   "codemirror_mode": {
    "name": "ipython",
    "version": 3
   },
   "file_extension": ".py",
   "mimetype": "text/x-python",
   "name": "python",
   "nbconvert_exporter": "python",
   "pygments_lexer": "ipython3",
   "version": "3.9.7"
  }
 },
 "nbformat": 4,
 "nbformat_minor": 5
}
